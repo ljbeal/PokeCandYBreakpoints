{
 "cells": [
  {
   "cell_type": "code",
   "execution_count": 1,
   "id": "5b9306bd-2105-413a-adb0-ea6a0996d295",
   "metadata": {},
   "outputs": [],
   "source": [
    "import bisect"
   ]
  },
  {
   "cell_type": "code",
   "execution_count": 2,
   "id": "5bfa2b02-1631-436b-86c9-9222da6c2966",
   "metadata": {},
   "outputs": [],
   "source": [
    "# paradox pokes are Slow group\n",
    "\n",
    "# growth functions\n",
    "\n",
    "def erratic(lvl):\n",
    "    val = 0\n",
    "    if lvl < 50:\n",
    "        val = (lvl ** 3) * (100 - lvl) / 50\n",
    "    elif lvl < 68:\n",
    "        val = (lvl ** 3) * (150 - lvl) / 100\n",
    "    elif lvl < 98:\n",
    "        val = (lvl ** 3) * ( (1911 - (10 * lvl ) ) / 3) / 500\n",
    "    else:\n",
    "        val = (lvl ** 3) * (160 - lvl) / 100\n",
    "    return int(val)\n",
    "    \n",
    "def fast(lvl):\n",
    "    return int(4 * lvl ** 3 / 5)\n",
    "\n",
    "def medfast(lvl):\n",
    "    return int(lvl ** 3)\n",
    "\n",
    "def medslow(lvl):\n",
    "    return int((6/5) * lvl ** 3 - 15 * lvl ** 2 + 100 * lvl - 140)\n",
    "\n",
    "def slow(lvl):\n",
    "    return int(5 * lvl **3 / 4)\n",
    "\n",
    "def fluctuating(lvl):\n",
    "    val = 0\n",
    "    if lvl < 15:\n",
    "        val = ( (lvl ** 3) * ( ( (lvl + 1) / 3) + 24) ) / 50\n",
    "    elif lvl < 36:\n",
    "        val = (lvl ** 3) * (lvl + 14) / 50\n",
    "    else:\n",
    "        val = ( (lvl ** 3) * ( ( lvl /2 ) + 32) ) / 50\n",
    "    return int(val)\n",
    "\n",
    "# extra functions\n",
    "\n",
    "def get_level(exp, group):\n",
    "    # slow, but faster than solving all those exp functions for level\n",
    "    lvldict = {group(i): i for i in range(1, 101)}\n",
    "    \n",
    "    lvls = list(lvldict.keys())\n",
    "    \n",
    "    try:\n",
    "        return lvldict[exp]\n",
    "    except KeyError:\n",
    "        pass\n",
    "    \n",
    "    bisect.insort(lvls, exp)\n",
    "    point = lvls.index(exp)\n",
    "    \n",
    "    level = lvldict[lvls[point - 1]]\n",
    "    \n",
    "    return level\n",
    "    \n",
    "\n",
    "def expdelta(u, v, func):\n",
    "    return func(v) - func(u)\n",
    "\n",
    "# candy yields\n",
    "candies = {'XS': 100,\n",
    "           'S': 800,\n",
    "           'M': 3000,\n",
    "           'L': 10000,\n",
    "           'XL': 30000}"
   ]
  },
  {
   "cell_type": "code",
   "execution_count": 3,
   "id": "bafcf372-cfab-4ba2-ba38-b64bc5adc03b",
   "metadata": {},
   "outputs": [
    {
     "data": {
      "text/plain": [
       "43"
      ]
     },
     "execution_count": 3,
     "metadata": {},
     "output_type": "execute_result"
    }
   ],
   "source": [
    "get_level(106479, slow)"
   ]
  },
  {
   "cell_type": "code",
   "execution_count": 4,
   "id": "125ba8df-0b47-4ff0-8726-77ee8a4ca454",
   "metadata": {},
   "outputs": [
    {
     "name": "stdout",
     "output_type": "stream",
     "text": [
      "600000\n",
      "800000\n",
      "1000000\n",
      "1059860\n",
      "1250000\n",
      "1640000\n"
     ]
    }
   ],
   "source": [
    "print(erratic(100))\n",
    "print(fast(100))\n",
    "print(medfast(100))\n",
    "print(medslow(100))\n",
    "print(slow(100))\n",
    "print(fluctuating(100))"
   ]
  },
  {
   "cell_type": "code",
   "execution_count": 5,
   "id": "b04938c3-e985-4188-a138-514dd1e46e07",
   "metadata": {},
   "outputs": [],
   "source": [
    "def calc(group, exp = None, lvl = None):\n",
    "    if lvl is None and exp is None:\n",
    "        raise ValueError('please provide a level, or exp value!')\n",
    "        \n",
    "    if exp is None:\n",
    "        exp = group(lvl)\n",
    "        \n",
    "    if lvl is None:\n",
    "        lvl = get_level(exp, group)\n",
    "    \n",
    "    print(f'For a pokemon in group {group.__name__} with {exp} exp (lvl {lvl}):')\n",
    "    \n",
    "    def exp_to_level(lvl, exp):\n",
    "         return group(lvl) - exp\n",
    "    \n",
    "    temp_lvl = lvl\n",
    "    temp_exp = exp\n",
    "    next_lvl = exp_to_level(temp_lvl + 1, temp_exp)\n",
    "    \n",
    "    used = {}\n",
    "    \n",
    "    def add_use(item):\n",
    "        try:\n",
    "            used[item] += 1\n",
    "        except KeyError:\n",
    "            used[item] = 1\n",
    "    \n",
    "    while temp_lvl != 100:\n",
    "        next_lvl = exp_to_level(temp_lvl + 1, temp_exp)\n",
    "        \n",
    "        if next_lvl <= 30000:\n",
    "            temp_exp += 30000\n",
    "\n",
    "            temp_lvl = get_level(temp_exp, group)\n",
    "\n",
    "            print(f'using XL candy, level is now {temp_lvl}')\n",
    "            add_use('XL Candy')\n",
    "        else:\n",
    "            temp_lvl += 1\n",
    "\n",
    "            print(f'using rare candy, level is now {temp_lvl}')\n",
    "            add_use('Rare Candy')\n",
    "            \n",
    "    print(used)\n",
    "            "
   ]
  },
  {
   "cell_type": "code",
   "execution_count": 6,
   "id": "0b06ec9d-3de5-47a0-b81d-99cb9bac0207",
   "metadata": {},
   "outputs": [
    {
     "name": "stdout",
     "output_type": "stream",
     "text": [
      "For a pokemon in group slow with 231763 exp (lvl 57):\n",
      "using XL candy, level is now 59\n",
      "using XL candy, level is now 61\n",
      "using XL candy, level is now 63\n",
      "using XL candy, level is now 65\n",
      "using XL candy, level is now 67\n",
      "using XL candy, level is now 69\n",
      "using XL candy, level is now 70\n",
      "using XL candy, level is now 72\n",
      "using XL candy, level is now 73\n",
      "using XL candy, level is now 75\n",
      "using XL candy, level is now 76\n",
      "using XL candy, level is now 77\n",
      "using XL candy, level is now 79\n",
      "using XL candy, level is now 80\n",
      "using XL candy, level is now 81\n",
      "using XL candy, level is now 82\n",
      "using XL candy, level is now 84\n",
      "using XL candy, level is now 85\n",
      "using XL candy, level is now 86\n",
      "using XL candy, level is now 87\n",
      "using XL candy, level is now 88\n",
      "using XL candy, level is now 89\n",
      "using XL candy, level is now 90\n",
      "using XL candy, level is now 91\n",
      "using XL candy, level is now 92\n",
      "using XL candy, level is now 93\n",
      "using XL candy, level is now 94\n",
      "using XL candy, level is now 95\n",
      "using rare candy, level is now 96\n",
      "using rare candy, level is now 97\n",
      "using rare candy, level is now 98\n",
      "using rare candy, level is now 99\n",
      "using rare candy, level is now 100\n",
      "{'XL Candy': 28, 'Rare Candy': 5}\n"
     ]
    }
   ],
   "source": [
    "calc(slow, exp = 231763)"
   ]
  }
 ],
 "metadata": {
  "kernelspec": {
   "display_name": "Python 3 (ipykernel)",
   "language": "python",
   "name": "python3"
  },
  "language_info": {
   "codemirror_mode": {
    "name": "ipython",
    "version": 3
   },
   "file_extension": ".py",
   "mimetype": "text/x-python",
   "name": "python",
   "nbconvert_exporter": "python",
   "pygments_lexer": "ipython3",
   "version": "3.10.8"
  }
 },
 "nbformat": 4,
 "nbformat_minor": 5
}
